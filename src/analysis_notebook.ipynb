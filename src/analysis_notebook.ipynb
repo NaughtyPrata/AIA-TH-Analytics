{
 "cells": [
  {
   "cell_type": "markdown",
   "metadata": {},
   "source": [
    "# AIA Analytics - AI Conversation Analysis\n",
    "\n",
    "This notebook provides interactive analysis of customer conversations using OpenAI GPT-4o."
   ]
  },
  {
   "cell_type": "code",
   "execution_count": null,
   "metadata": {},
   "outputs": [],
   "source": [
    "# Import required libraries\n",
    "from ai_analyzer import AIAAnalyzer\n",
    "import pandas as pd\n",
    "import matplotlib.pyplot as plt\n",
    "import seaborn as sns\n",
    "from datetime import datetime, timedelta\n",
    "import json\n",
    "\n",
    "# Initialize the analyzer\n",
    "analyzer = AIAAnalyzer()\n",
    "print(\"✅ AIA Analyzer initialized successfully!\")"
   ]
  },
  {
   "cell_type": "markdown",
   "metadata": {},
   "source": [
    "## 1. Data Overview"
   ]
  },
  {
   "cell_type": "code",
   "execution_count": null,
   "metadata": {},
   "outputs": [],
   "source": [
    "# Load and examine the data\n",
    "df = analyzer.load_transcript_data(limit=1000)  # Load first 1000 rows\n",
    "print(f\"📊 Data Shape: {df.shape}\")\n",
    "print(f\"📅 Date Range: {df['Created At'].min()} to {df['Created At'].max()}\")\n",
    "print(f\"💬 Unique Conversations: {df['Conversation ID'].nunique()}\")\n",
    "print(f\"👥 Message Roles: {df['Message Role'].value_counts().to_dict()}\")\n",
    "\n",
    "# Display sample data\n",
    "df.head()"
   ]
  },
  {
   "cell_type": "markdown",
   "metadata": {},
   "source": [
    "## 2. Quick Analysis of Recent Conversations"
   ]
  },
  {
   "cell_type": "code",
   "execution_count": null,
   "metadata": {},
   "outputs": [],
   "source": [
    "# Generate conversation summary\n",
    "print(\"🔍 Generating AI Summary of Recent Conversations...\")\n",
    "summary = analyzer.generate_conversation_summary(limit=10)\n",
    "print(summary)"
   ]
  },
  {
   "cell_type": "markdown",
   "metadata": {},
   "source": [
    "## 3. Sentiment Analysis"
   ]
  },
  {
   "cell_type": "code",
   "execution_count": null,
   "metadata": {},
   "outputs": [],
   "source": [
    "# Analyze sentiment trends\n",
    "print(\"📈 Analyzing Sentiment Trends...\")\n",
    "sentiment_data = analyzer.analyze_sentiment_trends(days_back=14)\n",
    "\n",
    "# Display results\n",
    "print(f\"Total Conversations Analyzed: {sentiment_data.get('total_analyzed', 0)}\")\n",
    "print(f\"Period: {sentiment_data.get('period', 'N/A')}\")\n",
    "\n",
    "# Plot sentiment distribution\n",
    "if 'sentiment_distribution' in sentiment_data:\n",
    "    sentiment_dist = sentiment_data['sentiment_distribution']\n",
    "    \n",
    "    plt.figure(figsize=(10, 6))\n",
    "    plt.subplot(1, 2, 1)\n",
    "    plt.pie(sentiment_dist.values(), labels=sentiment_dist.keys(), autopct='%1.1f%%')\n",
    "    plt.title('Sentiment Distribution')\n",
    "    \n",
    "    plt.subplot(1, 2, 2)\n",
    "    plt.bar(sentiment_dist.keys(), sentiment_dist.values())\n",
    "    plt.title('Sentiment Count')\n",
    "    plt.xlabel('Sentiment')\n",
    "    plt.ylabel('Count')\n",
    "    \n",
    "    plt.tight_layout()\n",
    "    plt.show()"
   ]
  },
  {
   "cell_type": "markdown",
   "metadata": {},
   "source": [
    "## 4. Product Opportunities Analysis"
   ]
  },
  {
   "cell_type": "code",
   "execution_count": null,
   "metadata": {},
   "outputs": [],
   "source": [
    "# Identify product opportunities\n",
    "print(\"💡 Identifying Product Opportunities...\")\n",
    "opportunities = analyzer.identify_product_opportunities(limit=15)\n",
    "print(opportunities)"
   ]
  },
  {
   "cell_type": "markdown",
   "metadata": {},
   "source": [
    "## 5. Individual Conversation Analysis"
   ]
  },
  {
   "cell_type": "code",
   "execution_count": null,
   "metadata": {},
   "outputs": [],
   "source": [
    "# Get a list of recent conversation IDs\n",
    "recent_conversations = df['Conversation ID'].unique()[:10]\n",
    "print(\"Recent Conversation IDs:\")\n",
    "for i, conv_id in enumerate(recent_conversations, 1):\n",
    "    print(f\"{i}. {conv_id}\")\n",
    "\n",
    "# Analyze a specific conversation (change the index as needed)\n",
    "conv_to_analyze = recent_conversations[4]  # Analyze the 5th conversation\n",
    "print(f\"\\n🔍 Analyzing Conversation: {conv_to_analyze}\")\n",
    "\n",
    "try:\n",
    "    insight = analyzer.analyze_conversation(conv_to_analyze)\n",
    "    \n",
    "    print(f\"\\n📝 Customer Intent: {insight.customer_intent}\")\n",
    "    print(f\"😊 Sentiment: {insight.sentiment}\")\n",
    "    print(f\"📦 Product Interest: {insight.product_interest}\")\n",
    "    print(f\"⚠️ Issues Identified: {insight.issues_identified}\")\n",
    "    print(f\"✅ Resolution Status: {insight.resolution_status}\")\n",
    "    print(f\"💡 Recommendations:\")\n",
    "    for rec in insight.recommendations:\n",
    "        print(f\"   • {rec}\")\n",
    "        \n",
    "except Exception as e:\n",
    "    print(f\"❌ Error: {e}\")"
   ]
  },
  {
   "cell_type": "markdown",
   "metadata": {},
   "source": [
    "## 6. Generate Full Report"
   ]
  },
  {
   "cell_type": "code",
   "execution_count": null,
   "metadata": {},
   "outputs": [],
   "source": [
    "# Generate comprehensive report\n",
    "print(\"📄 Generating Full AI Analysis Report...\")\n",
    "report_filename = f\"ai_analysis_report_{datetime.now().strftime('%Y%m%d_%H%M%S')}.md\"\n",
    "result = analyzer.generate_full_report(report_filename)\n",
    "print(result)\n",
    "print(f\"\\n📁 Report saved as: {report_filename}\")"
   ]
  },
  {
   "cell_type": "markdown",
   "metadata": {},
   "source": [
    "## 7. Custom Analysis"
   ]
  },
  {
   "cell_type": "code",
   "execution_count": null,
   "metadata": {},
   "outputs": [],
   "source": [
    "# Space for custom analysis\n",
    "# You can add your own analysis code here\n",
    "\n",
    "# Example: Analyze conversations with specific keywords\n",
    "keyword = \"life insurance\"  # Change this keyword\n",
    "keyword_conversations = df[df['Message Text'].str.contains(keyword, case=False, na=False)]['Conversation ID'].unique()\n",
    "\n",
    "print(f\"🔍 Found {len(keyword_conversations)} conversations mentioning '{keyword}'\")\n",
    "if len(keyword_conversations) > 0:\n",
    "    print(\"Conversation IDs:\")\n",
    "    for conv_id in keyword_conversations[:5]:  # Show first 5\n",
    "        print(f\"  • {conv_id}\")"
   ]
  }
 ],
 "metadata": {
  "kernelspec": {
   "display_name": "Python 3",
   "language": "python",
   "name": "python3"
  },
  "language_info": {
   "codemirror_mode": {
    "name": "ipython",
    "version": 3
   },
   "file_extension": ".py",
   "mimetype": "text/x-python",
   "name": "python",
   "nbconvert_exporter": "python",
   "pygments_lexer": "ipython3",
   "version": "3.8.5"
  }
 },
 "nbformat": 4,
 "nbformat_minor": 4
}
